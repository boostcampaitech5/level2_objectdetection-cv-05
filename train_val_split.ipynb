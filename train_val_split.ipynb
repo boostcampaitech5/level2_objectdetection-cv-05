{
 "cells": [
  {
   "attachments": {},
   "cell_type": "markdown",
   "metadata": {},
   "source": [
    "### train, val split"
   ]
  },
  {
   "cell_type": "code",
   "execution_count": 2,
   "metadata": {},
   "outputs": [],
   "source": [
    "# 변수 설정\n",
    "\n",
    "JSON_FILE_PATH = \"/opt/ml/dataset/train.json\"\n",
    "NEW_TRAIN_JSON_NAME = \"new_train.csv\"\n",
    "NEW_VAL_JSON_NAME = \"new_val.csv\""
   ]
  },
  {
   "cell_type": "code",
   "execution_count": 3,
   "metadata": {},
   "outputs": [
    {
     "name": "stdout",
     "output_type": "stream",
     "text": [
      "TRAIN: [   0    1    1 ... 4881 4881 4881]\n",
      "       [0 3 7 ... 7 1 7]\n",
      " TEST: [   6   13   13 ... 4882 4882 4882]\n",
      "       [1 6 7 ... 0 1 1]\n",
      "TRAIN: [   0    1    1 ... 4882 4882 4882]\n",
      "       [0 3 7 ... 0 1 1]\n",
      " TEST: [   5    5    5 ... 4876 4876 4878]\n",
      "       [7 0 0 ... 0 2 0]\n",
      "TRAIN: [   0    3    3 ... 4882 4882 4882]\n",
      "       [0 2 6 ... 0 1 1]\n",
      " TEST: [   1    1    1 ... 4877 4877 4880]\n",
      "       [3 7 4 ... 7 7 0]\n",
      "TRAIN: [   1    1    1 ... 4882 4882 4882]\n",
      "       [3 7 4 ... 0 1 1]\n",
      " TEST: [   0    3    3 ... 4881 4881 4881]\n",
      "       [0 2 6 ... 7 1 7]\n",
      "TRAIN: [   0    1    1 ... 4882 4882 4882]\n",
      "       [0 3 7 ... 0 1 1]\n",
      " TEST: [   4    4    4 ... 4868 4872 4872]\n",
      "       [1 1 1 ... 2 4 6]\n"
     ]
    }
   ],
   "source": [
    "# https://comlini8-8.tistory.com/m/97\n",
    "\n",
    "import json\n",
    "import numpy as np\n",
    "from sklearn.model_selection import StratifiedGroupKFold\n",
    "\n",
    "# load json\n",
    "\n",
    "data_dir = '/opt/ml/dataset/train/'\n",
    " # bbox json'\n",
    "\n",
    "annotation = JSON_FILE_PATH\n",
    "\n",
    "with open(annotation) as f:\n",
    "    data = json.load(f)\n",
    "    \n",
    "var = [(ann['image_id'], ann['category_id']) for ann in data['annotations']]\n",
    "\n",
    "\"\"\"\n",
    "https://scikit-learn.org/stable/modules/generated/sklearn.model_selection.StratifiedGroupKFold.html#sklearn.model_selection.StratifiedGroupKFold\n",
    "필요한 파라미터는 X, y, groups로  간단합니다. X에는 학습 데이터를, y에 label을, groups에는 어떤 그룹(= 우리의 경우 이미지)에서 나왔는지 라벨 데이터를 넣어주면 됩니다.\n",
    "자세한 이유는 모르겠지만,  X 로 넣은 데이터를 직접 split 해서 뱉어주는 메서드가 없기 때문에 X 는 shape 만 맞춰서 넣어주면 된다.\n",
    "공식문서에는 [n_samples, n_features] 라고 되어있으나, n_features 도 상관없는 것 같다. n_samples 는 꼭 맞춰야한다.\n",
    "split 메서드로는 y 로 넣은 index (annotation index) 만 도출된다. (X 로 넣은 학습 데이터를 직접 뱉어주는 메서드가 없다!)\n",
    "\n",
    "여기선 train, val set 을 나누는 목적으로 사용할것이므로 마지막 fold 를 사용하겠음.\n",
    "\"\"\"\n",
    "\n",
    "X = np.ones((len(data['annotations']),1))\n",
    "y = np.array([v[1] for v in var])\n",
    "groups = np.array([v[0] for v in var])\n",
    "\n",
    "cv = StratifiedGroupKFold(n_splits=5, shuffle=True, random_state=411)\n",
    "\n",
    "for train_idx, val_idx in cv.split(X, y, groups):\n",
    "    print(\"TRAIN:\", groups[train_idx])\n",
    "    print(\"      \", y[train_idx])\n",
    "    print(\" TEST:\", groups[val_idx])\n",
    "    print(\"      \", y[val_idx])\n",
    "\n",
    "# train_idx, val_idx 추출 성공!"
   ]
  },
  {
   "attachments": {},
   "cell_type": "markdown",
   "metadata": {},
   "source": [
    "#### 스쳐가는 EDA"
   ]
  },
  {
   "cell_type": "code",
   "execution_count": 4,
   "metadata": {},
   "outputs": [
    {
     "data": {
      "text/html": [
       "<div>\n",
       "<style scoped>\n",
       "    .dataframe tbody tr th:only-of-type {\n",
       "        vertical-align: middle;\n",
       "    }\n",
       "\n",
       "    .dataframe tbody tr th {\n",
       "        vertical-align: top;\n",
       "    }\n",
       "\n",
       "    .dataframe thead th {\n",
       "        text-align: right;\n",
       "    }\n",
       "</style>\n",
       "<table border=\"1\" class=\"dataframe\">\n",
       "  <thead>\n",
       "    <tr style=\"text-align: right;\">\n",
       "      <th></th>\n",
       "      <th>General trash</th>\n",
       "      <th>Paper</th>\n",
       "      <th>Paper pack</th>\n",
       "      <th>Metal</th>\n",
       "      <th>Glass</th>\n",
       "      <th>Plastic</th>\n",
       "      <th>Styrofoam</th>\n",
       "      <th>Plastic bag</th>\n",
       "      <th>Battery</th>\n",
       "      <th>Clothing</th>\n",
       "    </tr>\n",
       "  </thead>\n",
       "  <tbody>\n",
       "    <tr>\n",
       "      <th>training set</th>\n",
       "      <td>17.14%</td>\n",
       "      <td>27.45%</td>\n",
       "      <td>3.88%</td>\n",
       "      <td>4.04%</td>\n",
       "      <td>4.24%</td>\n",
       "      <td>12.72%</td>\n",
       "      <td>5.46%</td>\n",
       "      <td>22.37%</td>\n",
       "      <td>0.69%</td>\n",
       "      <td>2.02%</td>\n",
       "    </tr>\n",
       "    <tr>\n",
       "      <th>train - fold0</th>\n",
       "      <td>16.96%</td>\n",
       "      <td>27.45%</td>\n",
       "      <td>3.79%</td>\n",
       "      <td>4.13%</td>\n",
       "      <td>4.48%</td>\n",
       "      <td>12.61%</td>\n",
       "      <td>5.51%</td>\n",
       "      <td>22.28%</td>\n",
       "      <td>0.77%</td>\n",
       "      <td>2.02%</td>\n",
       "    </tr>\n",
       "    <tr>\n",
       "      <th>val - fold0</th>\n",
       "      <td>17.85%</td>\n",
       "      <td>27.42%</td>\n",
       "      <td>4.23%</td>\n",
       "      <td>3.70%</td>\n",
       "      <td>3.26%</td>\n",
       "      <td>13.15%</td>\n",
       "      <td>5.25%</td>\n",
       "      <td>22.77%</td>\n",
       "      <td>0.35%</td>\n",
       "      <td>2.02%</td>\n",
       "    </tr>\n",
       "    <tr>\n",
       "      <th>train - fold1</th>\n",
       "      <td>17.14%</td>\n",
       "      <td>27.24%</td>\n",
       "      <td>4.01%</td>\n",
       "      <td>3.98%</td>\n",
       "      <td>4.28%</td>\n",
       "      <td>12.77%</td>\n",
       "      <td>5.38%</td>\n",
       "      <td>22.32%</td>\n",
       "      <td>0.67%</td>\n",
       "      <td>2.20%</td>\n",
       "    </tr>\n",
       "    <tr>\n",
       "      <th>val - fold1</th>\n",
       "      <td>17.12%</td>\n",
       "      <td>28.17%</td>\n",
       "      <td>3.41%</td>\n",
       "      <td>4.26%</td>\n",
       "      <td>4.12%</td>\n",
       "      <td>12.51%</td>\n",
       "      <td>5.72%</td>\n",
       "      <td>22.57%</td>\n",
       "      <td>0.73%</td>\n",
       "      <td>1.38%</td>\n",
       "    </tr>\n",
       "    <tr>\n",
       "      <th>train - fold2</th>\n",
       "      <td>17.31%</td>\n",
       "      <td>27.39%</td>\n",
       "      <td>3.83%</td>\n",
       "      <td>4.08%</td>\n",
       "      <td>4.13%</td>\n",
       "      <td>12.80%</td>\n",
       "      <td>5.14%</td>\n",
       "      <td>22.68%</td>\n",
       "      <td>0.69%</td>\n",
       "      <td>1.94%</td>\n",
       "    </tr>\n",
       "    <tr>\n",
       "      <th>val - fold2</th>\n",
       "      <td>16.42%</td>\n",
       "      <td>27.68%</td>\n",
       "      <td>4.05%</td>\n",
       "      <td>3.88%</td>\n",
       "      <td>4.70%</td>\n",
       "      <td>12.36%</td>\n",
       "      <td>6.76%</td>\n",
       "      <td>21.12%</td>\n",
       "      <td>0.69%</td>\n",
       "      <td>2.35%</td>\n",
       "    </tr>\n",
       "    <tr>\n",
       "      <th>train - fold3</th>\n",
       "      <td>17.30%</td>\n",
       "      <td>27.47%</td>\n",
       "      <td>3.87%</td>\n",
       "      <td>4.06%</td>\n",
       "      <td>4.22%</td>\n",
       "      <td>12.63%</td>\n",
       "      <td>5.49%</td>\n",
       "      <td>22.39%</td>\n",
       "      <td>0.63%</td>\n",
       "      <td>1.95%</td>\n",
       "    </tr>\n",
       "    <tr>\n",
       "      <th>val - fold3</th>\n",
       "      <td>16.50%</td>\n",
       "      <td>27.36%</td>\n",
       "      <td>3.88%</td>\n",
       "      <td>3.99%</td>\n",
       "      <td>4.33%</td>\n",
       "      <td>13.07%</td>\n",
       "      <td>5.33%</td>\n",
       "      <td>22.30%</td>\n",
       "      <td>0.92%</td>\n",
       "      <td>2.32%</td>\n",
       "    </tr>\n",
       "    <tr>\n",
       "      <th>train - fold4</th>\n",
       "      <td>16.97%</td>\n",
       "      <td>27.67%</td>\n",
       "      <td>3.88%</td>\n",
       "      <td>3.97%</td>\n",
       "      <td>4.10%</td>\n",
       "      <td>12.77%</td>\n",
       "      <td>5.76%</td>\n",
       "      <td>22.20%</td>\n",
       "      <td>0.68%</td>\n",
       "      <td>2.00%</td>\n",
       "    </tr>\n",
       "    <tr>\n",
       "      <th>val - fold4</th>\n",
       "      <td>17.84%</td>\n",
       "      <td>26.48%</td>\n",
       "      <td>3.85%</td>\n",
       "      <td>4.38%</td>\n",
       "      <td>4.84%</td>\n",
       "      <td>12.50%</td>\n",
       "      <td>4.15%</td>\n",
       "      <td>23.11%</td>\n",
       "      <td>0.73%</td>\n",
       "      <td>2.11%</td>\n",
       "    </tr>\n",
       "  </tbody>\n",
       "</table>\n",
       "</div>"
      ],
      "text/plain": [
       "              General trash   Paper Paper pack  Metal  Glass Plastic  \\\n",
       "training set         17.14%  27.45%      3.88%  4.04%  4.24%  12.72%   \n",
       "train - fold0        16.96%  27.45%      3.79%  4.13%  4.48%  12.61%   \n",
       "val - fold0          17.85%  27.42%      4.23%  3.70%  3.26%  13.15%   \n",
       "train - fold1        17.14%  27.24%      4.01%  3.98%  4.28%  12.77%   \n",
       "val - fold1          17.12%  28.17%      3.41%  4.26%  4.12%  12.51%   \n",
       "train - fold2        17.31%  27.39%      3.83%  4.08%  4.13%  12.80%   \n",
       "val - fold2          16.42%  27.68%      4.05%  3.88%  4.70%  12.36%   \n",
       "train - fold3        17.30%  27.47%      3.87%  4.06%  4.22%  12.63%   \n",
       "val - fold3          16.50%  27.36%      3.88%  3.99%  4.33%  13.07%   \n",
       "train - fold4        16.97%  27.67%      3.88%  3.97%  4.10%  12.77%   \n",
       "val - fold4          17.84%  26.48%      3.85%  4.38%  4.84%  12.50%   \n",
       "\n",
       "              Styrofoam Plastic bag Battery Clothing  \n",
       "training set      5.46%      22.37%   0.69%    2.02%  \n",
       "train - fold0     5.51%      22.28%   0.77%    2.02%  \n",
       "val - fold0       5.25%      22.77%   0.35%    2.02%  \n",
       "train - fold1     5.38%      22.32%   0.67%    2.20%  \n",
       "val - fold1       5.72%      22.57%   0.73%    1.38%  \n",
       "train - fold2     5.14%      22.68%   0.69%    1.94%  \n",
       "val - fold2       6.76%      21.12%   0.69%    2.35%  \n",
       "train - fold3     5.49%      22.39%   0.63%    1.95%  \n",
       "val - fold3       5.33%      22.30%   0.92%    2.32%  \n",
       "train - fold4     5.76%      22.20%   0.68%    2.00%  \n",
       "val - fold4       4.15%      23.11%   0.73%    2.11%  "
      ]
     },
     "execution_count": 4,
     "metadata": {},
     "output_type": "execute_result"
    }
   ],
   "source": [
    "# https://www.kaggle.com/code/jakubwasikowski/stratified-group-k-fold-cross-validation/notebook\n",
    "# 비율 확인\n",
    "\n",
    "import random\n",
    "import numpy as np\n",
    "import pandas as pd\n",
    "from collections import Counter, defaultdict\n",
    "\n",
    "# check distribution\n",
    "def get_distribution(y):\n",
    "    y_distr = Counter(y)\n",
    "    y_vals_sum = sum(y_distr.values())\n",
    "    \n",
    "    return [f'{y_distr[i]/y_vals_sum:.2%}'  for i in range(np.max(y) +1)]\n",
    "    \n",
    "distrs = [get_distribution(y)]\n",
    "index = ['training set']\n",
    "\n",
    "for fold_ind, (train_idx, val_idx) in enumerate(cv.split(X,y, groups)):\n",
    "    train_y, val_y = y[train_idx], y[val_idx]\n",
    "    # train_gr, val_gr = groups[train_idx], groups[val_idx]\n",
    "    \n",
    "    # assert len(set(train_gr) & set(val_gr)) == 0\n",
    "    \n",
    "    distrs.append(get_distribution(train_y))\n",
    "    distrs.append(get_distribution(val_y))\n",
    "    \n",
    "    index.append(f'train - fold{fold_ind}')\n",
    "    index.append(f'val - fold{fold_ind}')\n",
    "                 \n",
    "categories = [d['name'] for d in data['categories']]\n",
    "\n",
    "portion = pd.DataFrame(distrs, index=index, columns = [categories[i] for i in range(np.max(y) + 1)])\n",
    "portion"
   ]
  },
  {
   "cell_type": "code",
   "execution_count": 5,
   "metadata": {},
   "outputs": [
    {
     "data": {
      "image/png": "[encoded data removed]",
      "text/plain": [
       "<Figure size 640x480 with 1 Axes>"
      ]
     },
     "metadata": {},
     "output_type": "display_data"
    }
   ],
   "source": [
    "import matplotlib.pyplot as plt\n",
    "\n",
    "# 데이터프레임에서 1행만 선택\n",
    "row = portion.iloc[0]\n",
    "values = [float(x.replace('%', '')) for x in row]\n",
    "\n",
    "# 파이차트 그리기\n",
    "# 컬러파레트생성기 https://www.learnui.design/tools/data-color-picker.html\n",
    "color_palette = [\n",
    "\"#003f5c\",\n",
    "\"#2f4b7c\",\n",
    "\"#665191\",\n",
    "\"#a05195\",\n",
    "\"#d45087\",\n",
    "\"#f95d6a\",\n",
    "\"#ff7c43\",\n",
    "\"#ffa600\",\n",
    "]\n",
    "labels=row.index\n",
    "#values, labels = zip(*sorted(zip(values, labels), reverse=True))\n",
    "# 파이차트 그리기\n",
    "plt.pie(values, labels=labels, colors = color_palette, autopct='%1.1f%%',)# startangle=90, counterclock=False)\n",
    "plt.title(\"train set Class Portion Info\")\n",
    "#plt.legend(labels=labels, loc='upper right')\n",
    "plt.show()"
   ]
  },
  {
   "cell_type": "code",
   "execution_count": 6,
   "metadata": {},
   "outputs": [
    {
     "name": "stdout",
     "output_type": "stream",
     "text": [
      "('Paper', 'Plastic bag', 'General trash', 'Plastic', 'Styrofoam', 'Glass', 'Metal', 'Paper pack', 'Clothing', 'Battery')\n",
      "(27.45, 22.37, 17.14, 12.72, 5.46, 4.24, 4.04, 3.88, 2.02, 0.69)\n"
     ]
    }
   ],
   "source": [
    "values, labels = zip(*sorted(zip(values, labels), reverse=True))\n",
    "print(labels)\n",
    "print(values)"
   ]
  },
  {
   "attachments": {},
   "cell_type": "markdown",
   "metadata": {},
   "source": [
    "#### train, val json 만들기"
   ]
  },
  {
   "cell_type": "code",
   "execution_count": 7,
   "metadata": {},
   "outputs": [
    {
     "name": "stdout",
     "output_type": "stream",
     "text": [
      "[    0     1     2 ... 23141 23142 23143]\n",
      "[   0    1    1 ... 4882 4882 4882]\n",
      "{0, 1, 2, 3, 5, 6, 7, 8, 10, 11, 12, 13, 14, 15, 16, 17, 18, 19, 20, 21, 22, 24, 25, 26, 27, 28, 29, 30, 31, 33, 36, 37, 38, 39, 40, 41, 42, 43, 46, 47, 49, 50, 51, 53, 54, 55, 56, 57, 58, 60, 61, 63, 64, 65, 66, 67, 68, 69, 70, 71, 72, 73, 76, 77, 78, 79, 80, 81, 84, 86, 87, 88, 89, 90, 91, 92, 94, 95, 96, 98, 99, 100, 102, 103, 104, 105, 106, 109, 110, 111, 112, 113, 114, 115, 116, 118, 119, 120, 121, 122, 123, 124, 125, 126, 128, 129, 131, 132, 133, 134, 135, 137, 138, 139, 140, 141, 142, 143, 144, 145, 147, 148, 149, 150, 151, 152, 153, 154, 155, 157, 159, 160, 161, 163, 164, 165, 166, 169, 170, 171, 173, 174, 176, 177, 178, 179, 180, 183, 184, 185, 186, 187, 188, 189, 190, 191, 192, 193, 194, 195, 196, 197, 198, 200, 201, 202, 203, 204, 206, 207, 208, 210, 211, 212, 213, 214, 216, 217, 218, 219, 221, 222, 223, 225, 226, 227, 229, 230, 231, 233, 234, 235, 236, 237, 238, 239, 241, 242, 243, 244, 245, 246, 247, 248, 249, 250, 252, 254, 255, 256, 257, 259, 260, 263, 264, 267, 268, 269, 270, 271, 272, 274, 275, 276, 277, 280, 281, 282, 283, 284, 285, 286, 288, 289, 290, 292, 293, 294, 295, 296, 297, 299, 300, 301, 302, 303, 304, 305, 306, 307, 309, 311, 312, 313, 314, 315, 316, 317, 319, 320, 322, 323, 324, 325, 329, 330, 331, 332, 333, 334, 335, 336, 337, 338, 339, 340, 341, 342, 343, 345, 346, 348, 349, 351, 352, 353, 354, 355, 357, 358, 359, 360, 361, 362, 364, 365, 366, 367, 368, 369, 370, 371, 373, 374, 376, 377, 379, 380, 383, 384, 385, 386, 387, 389, 390, 391, 392, 393, 394, 395, 397, 398, 399, 400, 402, 403, 404, 406, 407, 408, 409, 410, 411, 412, 413, 415, 416, 417, 418, 419, 420, 421, 422, 423, 424, 425, 426, 427, 428, 430, 431, 432, 434, 435, 436, 438, 439, 440, 442, 444, 445, 446, 447, 449, 450, 451, 453, 454, 455, 456, 457, 458, 459, 460, 461, 462, 463, 464, 465, 466, 467, 468, 469, 470, 471, 472, 473, 475, 478, 480, 481, 482, 484, 485, 486, 487, 488, 489, 491, 492, 493, 494, 495, 496, 498, 499, 500, 502, 504, 505, 506, 507, 508, 509, 510, 512, 513, 514, 515, 517, 518, 519, 520, 523, 525, 526, 527, 528, 529, 530, 531, 532, 534, 535, 536, 537, 538, 540, 543, 544, 546, 547, 548, 549, 550, 553, 554, 555, 556, 557, 558, 559, 561, 562, 564, 566, 567, 568, 569, 570, 571, 574, 575, 576, 577, 578, 579, 580, 582, 583, 584, 585, 587, 588, 589, 591, 592, 593, 594, 595, 596, 599, 600, 601, 602, 603, 604, 605, 606, 607, 608, 609, 610, 612, 614, 616, 617, 619, 621, 622, 624, 625, 626, 627, 628, 629, 630, 631, 632, 634, 637, 638, 639, 640, 642, 645, 646, 647, 648, 649, 650, 652, 654, 655, 657, 658, 659, 660, 663, 664, 665, 666, 667, 668, 669, 670, 671, 672, 674, 676, 677, 678, 679, 680, 681, 682, 684, 685, 686, 687, 690, 691, 694, 695, 697, 698, 700, 701, 702, 704, 706, 707, 708, 709, 713, 714, 715, 717, 718, 719, 720, 722, 723, 724, 725, 728, 729, 730, 731, 732, 733, 734, 735, 737, 738, 739, 740, 741, 743, 744, 745, 746, 748, 749, 750, 752, 753, 754, 755, 756, 757, 758, 760, 761, 762, 763, 764, 765, 766, 767, 770, 772, 773, 776, 777, 778, 779, 780, 781, 782, 784, 785, 786, 787, 788, 789, 791, 792, 793, 794, 796, 797, 798, 799, 802, 804, 805, 807, 808, 809, 812, 813, 814, 815, 816, 818, 819, 820, 821, 822, 823, 824, 825, 826, 827, 828, 830, 831, 833, 834, 835, 836, 838, 839, 840, 842, 843, 844, 845, 846, 848, 849, 851, 853, 854, 855, 856, 857, 858, 859, 860, 861, 863, 864, 865, 866, 867, 868, 869, 870, 872, 873, 874, 875, 876, 877, 878, 879, 881, 883, 885, 886, 887, 888, 889, 890, 891, 892, 893, 895, 896, 897, 899, 900, 901, 902, 903, 904, 906, 907, 908, 909, 910, 911, 912, 913, 914, 915, 917, 918, 919, 920, 921, 922, 923, 924, 925, 926, 927, 928, 929, 930, 931, 934, 935, 936, 937, 938, 939, 940, 942, 943, 944, 946, 947, 948, 949, 950, 952, 953, 954, 956, 957, 958, 960, 961, 963, 964, 965, 966, 968, 969, 971, 972, 974, 975, 976, 977, 978, 979, 980, 981, 982, 983, 984, 985, 986, 987, 988, 992, 993, 994, 995, 996, 997, 998, 999, 1000, 1001, 1002, 1004, 1005, 1007, 1008, 1011, 1012, 1013, 1014, 1015, 1016, 1017, 1018, 1019, 1020, 1021, 1023, 1027, 1028, 1030, 1032, 1033, 1035, 1036, 1037, 1038, 1039, 1040, 1041, 1043, 1045, 1047, 1048, 1050, 1052, 1053, 1054, 1056, 1057, 1058, 1059, 1060, 1061, 1063, 1064, 1066, 1067, 1068, 1069, 1071, 1072, 1073, 1074, 1075, 1076, 1077, 1078, 1079, 1080, 1081, 1083, 1084, 1085, 1087, 1089, 1091, 1092, 1093, 1094, 1095, 1098, 1100, 1101, 1102, 1103, 1104, 1105, 1106, 1108, 1109, 1110, 1112, 1113, 1115, 1116, 1118, 1119, 1120, 1121, 1122, 1124, 1125, 1126, 1127, 1128, 1129, 1130, 1132, 1133, 1134, 1135, 1136, 1137, 1139, 1140, 1141, 1142, 1143, 1145, 1146, 1147, 1148, 1149, 1150, 1152, 1153, 1154, 1155, 1156, 1157, 1158, 1159, 1160, 1161, 1162, 1163, 1165, 1166, 1167, 1168, 1169, 1171, 1173, 1174, 1175, 1176, 1177, 1178, 1179, 1180, 1181, 1182, 1183, 1184, 1186, 1188, 1189, 1190, 1191, 1192, 1193, 1194, 1195, 1197, 1198, 1199, 1200, 1201, 1202, 1203, 1204, 1205, 1206, 1208, 1209, 1210, 1212, 1215, 1216, 1218, 1219, 1220, 1222, 1223, 1225, 1226, 1227, 1228, 1229, 1230, 1231, 1234, 1235, 1236, 1237, 1238, 1239, 1240, 1241, 1243, 1245, 1246, 1247, 1248, 1249, 1250, 1251, 1252, 1253, 1254, 1256, 1257, 1258, 1259, 1260, 1261, 1262, 1263, 1264, 1265, 1266, 1267, 1268, 1269, 1274, 1275, 1276, 1277, 1278, 1280, 1281, 1282, 1283, 1284, 1285, 1286, 1287, 1289, 1290, 1291, 1292, 1294, 1295, 1296, 1297, 1298, 1299, 1301, 1302, 1303, 1304, 1305, 1306, 1307, 1308, 1310, 1311, 1312, 1314, 1315, 1316, 1317, 1318, 1319, 1320, 1321, 1322, 1323, 1324, 1326, 1327, 1328, 1329, 1331, 1332, 1334, 1335, 1336, 1337, 1338, 1340, 1341, 1342, 1344, 1345, 1346, 1347, 1348, 1349, 1351, 1352, 1353, 1354, 1355, 1356, 1357, 1358, 1359, 1360, 1361, 1362, 1363, 1365, 1366, 1367, 1368, 1369, 1371, 1372, 1373, 1374, 1375, 1377, 1378, 1379, 1381, 1382, 1384, 1385, 1386, 1387, 1388, 1389, 1391, 1392, 1393, 1395, 1396, 1397, 1398, 1399, 1400, 1402, 1403, 1404, 1406, 1408, 1409, 1410, 1411, 1412, 1413, 1414, 1415, 1416, 1417, 1418, 1420, 1421, 1422, 1423, 1424, 1426, 1427, 1428, 1429, 1430, 1432, 1433, 1434, 1435, 1436, 1438, 1439, 1440, 1441, 1442, 1445, 1446, 1447, 1448, 1449, 1450, 1451, 1452, 1453, 1454, 1455, 1456, 1458, 1459, 1461, 1464, 1465, 1466, 1467, 1469, 1470, 1471, 1472, 1474, 1475, 1476, 1477, 1479, 1480, 1482, 1483, 1484, 1485, 1486, 1487, 1488, 1489, 1490, 1491, 1492, 1494, 1495, 1497, 1498, 1499, 1500, 1501, 1502, 1503, 1505, 1506, 1507, 1509, 1510, 1511, 1512, 1513, 1514, 1515, 1517, 1518, 1519, 1520, 1521, 1522, 1524, 1526, 1527, 1528, 1530, 1531, 1532, 1533, 1534, 1535, 1536, 1537, 1538, 1539, 1540, 1541, 1545, 1546, 1547, 1548, 1549, 1550, 1552, 1553, 1554, 1555, 1556, 1557, 1559, 1562, 1563, 1565, 1566, 1567, 1568, 1569, 1570, 1571, 1572, 1574, 1575, 1576, 1577, 1578, 1580, 1581, 1582, 1583, 1584, 1586, 1587, 1588, 1589, 1590, 1591, 1592, 1595, 1596, 1597, 1600, 1601, 1603, 1604, 1606, 1607, 1609, 1610, 1612, 1613, 1615, 1616, 1617, 1618, 1619, 1620, 1621, 1622, 1623, 1624, 1625, 1627, 1628, 1630, 1631, 1632, 1633, 1634, 1635, 1636, 1638, 1639, 1640, 1641, 1642, 1645, 1647, 1648, 1651, 1652, 1653, 1654, 1655, 1656, 1657, 1658, 1659, 1660, 1661, 1663, 1664, 1667, 1668, 1669, 1670, 1671, 1673, 1674, 1676, 1677, 1679, 1680, 1681, 1682, 1683, 1684, 1685, 1686, 1690, 1691, 1692, 1693, 1694, 1695, 1696, 1697, 1698, 1699, 1703, 1704, 1705, 1707, 1709, 1710, 1711, 1712, 1713, 1714, 1717, 1718, 1719, 1720, 1721, 1722, 1723, 1724, 1725, 1726, 1727, 1728, 1729, 1730, 1732, 1734, 1735, 1736, 1737, 1738, 1739, 1740, 1741, 1742, 1743, 1744, 1745, 1746, 1747, 1748, 1749, 1750, 1751, 1752, 1754, 1755, 1757, 1758, 1759, 1760, 1761, 1762, 1763, 1764, 1765, 1766, 1768, 1772, 1773, 1774, 1775, 1777, 1778, 1779, 1780, 1781, 1782, 1783, 1784, 1785, 1786, 1787, 1788, 1790, 1791, 1792, 1793, 1794, 1796, 1798, 1799, 1800, 1801, 1802, 1803, 1804, 1806, 1807, 1808, 1810, 1812, 1814, 1815, 1816, 1818, 1819, 1820, 1821, 1822, 1824, 1825, 1827, 1828, 1829, 1830, 1832, 1833, 1834, 1835, 1836, 1837, 1838, 1839, 1841, 1842, 1843, 1844, 1845, 1847, 1848, 1849, 1852, 1853, 1854, 1855, 1857, 1858, 1859, 1860, 1861, 1862, 1863, 1864, 1865, 1867, 1868, 1870, 1871, 1872, 1873, 1874, 1875, 1877, 1879, 1880, 1881, 1883, 1884, 1885, 1886, 1887, 1888, 1889, 1891, 1892, 1893, 1895, 1896, 1897, 1898, 1899, 1900, 1902, 1903, 1904, 1907, 1908, 1910, 1911, 1913, 1914, 1915, 1916, 1917, 1918, 1919, 1920, 1921, 1922, 1923, 1924, 1925, 1928, 1929, 1930, 1931, 1932, 1933, 1934, 1935, 1937, 1938, 1939, 1940, 1941, 1942, 1943, 1944, 1945, 1947, 1948, 1949, 1951, 1952, 1955, 1956, 1957, 1958, 1962, 1963, 1964, 1965, 1966, 1967, 1970, 1971, 1973, 1974, 1975, 1976, 1977, 1978, 1979, 1980, 1981, 1982, 1983, 1984, 1985, 1986, 1987, 1988, 1990, 1991, 1992, 1993, 1994, 1996, 1997, 1998, 1999, 2000, 2001, 2002, 2003, 2005, 2006, 2007, 2008, 2009, 2010, 2011, 2012, 2015, 2016, 2017, 2018, 2019, 2020, 2021, 2022, 2023, 2025, 2026, 2028, 2030, 2031, 2032, 2033, 2034, 2035, 2036, 2037, 2040, 2041, 2042, 2044, 2046, 2047, 2049, 2051, 2052, 2053, 2054, 2055, 2056, 2058, 2059, 2060, 2061, 2062, 2063, 2064, 2065, 2067, 2068, 2069, 2071, 2072, 2073, 2075, 2077, 2078, 2080, 2081, 2082, 2083, 2084, 2086, 2088, 2089, 2090, 2091, 2092, 2093, 2094, 2095, 2098, 2099, 2100, 2101, 2102, 2103, 2104, 2106, 2107, 2108, 2109, 2110, 2111, 2112, 2113, 2114, 2116, 2117, 2119, 2120, 2121, 2122, 2123, 2124, 2125, 2126, 2127, 2128, 2130, 2131, 2132, 2133, 2134, 2135, 2136, 2137, 2139, 2140, 2141, 2142, 2143, 2144, 2147, 2148, 2149, 2150, 2153, 2154, 2155, 2156, 2158, 2159, 2160, 2161, 2163, 2164, 2165, 2166, 2167, 2168, 2169, 2170, 2172, 2173, 2174, 2175, 2176, 2177, 2178, 2179, 2180, 2182, 2183, 2184, 2185, 2188, 2189, 2190, 2191, 2193, 2194, 2195, 2196, 2197, 2198, 2199, 2200, 2202, 2203, 2204, 2205, 2206, 2207, 2208, 2209, 2211, 2212, 2213, 2215, 2218, 2219, 2220, 2221, 2222, 2223, 2224, 2225, 2226, 2227, 2229, 2233, 2234, 2235, 2236, 2237, 2238, 2241, 2242, 2243, 2244, 2245, 2246, 2247, 2248, 2249, 2250, 2251, 2252, 2253, 2254, 2256, 2258, 2259, 2260, 2262, 2263, 2264, 2267, 2268, 2269, 2270, 2272, 2274, 2275, 2276, 2278, 2279, 2280, 2281, 2283, 2286, 2287, 2288, 2289, 2291, 2292, 2293, 2294, 2295, 2296, 2297, 2298, 2299, 2300, 2301, 2302, 2303, 2305, 2306, 2307, 2308, 2309, 2310, 2311, 2314, 2315, 2316, 2317, 2319, 2320, 2321, 2322, 2323, 2324, 2327, 2328, 2329, 2330, 2331, 2332, 2334, 2336, 2337, 2338, 2339, 2340, 2341, 2342, 2343, 2344, 2345, 2347, 2348, 2349, 2351, 2352, 2354, 2355, 2356, 2360, 2361, 2362, 2364, 2365, 2366, 2369, 2371, 2372, 2373, 2374, 2375, 2376, 2377, 2378, 2379, 2380, 2381, 2382, 2383, 2384, 2387, 2388, 2389, 2390, 2391, 2392, 2393, 2394, 2395, 2396, 2397, 2398, 2399, 2400, 2402, 2403, 2404, 2405, 2406, 2407, 2408, 2409, 2410, 2411, 2412, 2413, 2414, 2415, 2416, 2417, 2419, 2420, 2421, 2422, 2423, 2424, 2425, 2428, 2429, 2432, 2433, 2434, 2435, 2436, 2438, 2439, 2440, 2441, 2443, 2444, 2447, 2448, 2449, 2450, 2451, 2452, 2453, 2454, 2457, 2458, 2459, 2460, 2461, 2462, 2463, 2464, 2465, 2466, 2468, 2470, 2471, 2472, 2473, 2475, 2476, 2477, 2479, 2481, 2482, 2483, 2485, 2486, 2487, 2489, 2492, 2493, 2494, 2495, 2496, 2498, 2500, 2501, 2502, 2503, 2504, 2505, 2507, 2508, 2509, 2510, 2511, 2512, 2513, 2514, 2516, 2517, 2518, 2519, 2521, 2522, 2523, 2524, 2525, 2527, 2528, 2530, 2531, 2532, 2533, 2534, 2535, 2536, 2537, 2538, 2539, 2542, 2544, 2547, 2548, 2549, 2550, 2551, 2552, 2553, 2554, 2555, 2556, 2557, 2558, 2559, 2560, 2561, 2562, 2563, 2564, 2565, 2566, 2567, 2568, 2569, 2570, 2571, 2573, 2574, 2575, 2576, 2577, 2578, 2579, 2580, 2581, 2582, 2583, 2584, 2587, 2588, 2589, 2590, 2591, 2592, 2593, 2594, 2595, 2596, 2597, 2598, 2599, 2601, 2603, 2604, 2605, 2606, 2607, 2610, 2613, 2614, 2615, 2616, 2617, 2619, 2620, 2621, 2622, 2623, 2624, 2625, 2627, 2629, 2630, 2632, 2633, 2634, 2635, 2637, 2639, 2640, 2641, 2642, 2644, 2645, 2647, 2648, 2649, 2651, 2652, 2653, 2654, 2655, 2656, 2657, 2658, 2661, 2662, 2663, 2664, 2665, 2666, 2667, 2668, 2670, 2671, 2672, 2673, 2674, 2677, 2679, 2680, 2681, 2684, 2685, 2686, 2687, 2688, 2689, 2690, 2691, 2692, 2693, 2695, 2696, 2697, 2700, 2701, 2702, 2703, 2704, 2705, 2706, 2709, 2710, 2711, 2712, 2713, 2714, 2715, 2716, 2717, 2718, 2719, 2720, 2721, 2723, 2725, 2726, 2727, 2728, 2729, 2730, 2731, 2732, 2735, 2737, 2738, 2739, 2741, 2743, 2744, 2746, 2747, 2748, 2749, 2750, 2751, 2752, 2753, 2755, 2756, 2757, 2758, 2759, 2760, 2761, 2762, 2763, 2764, 2765, 2766, 2769, 2770, 2772, 2774, 2775, 2776, 2778, 2779, 2782, 2783, 2784, 2785, 2787, 2788, 2789, 2790, 2791, 2792, 2793, 2794, 2795, 2797, 2799, 2803, 2804, 2805, 2806, 2807, 2809, 2811, 2812, 2813, 2814, 2815, 2816, 2817, 2819, 2820, 2821, 2822, 2823, 2825, 2827, 2828, 2829, 2830, 2831, 2832, 2833, 2834, 2835, 2836, 2837, 2838, 2839, 2840, 2842, 2844, 2845, 2846, 2847, 2848, 2849, 2850, 2852, 2853, 2854, 2855, 2856, 2859, 2860, 2862, 2863, 2864, 2865, 2866, 2867, 2869, 2870, 2871, 2872, 2873, 2874, 2876, 2877, 2878, 2879, 2880, 2881, 2882, 2884, 2885, 2887, 2888, 2889, 2890, 2891, 2894, 2895, 2896, 2898, 2899, 2901, 2902, 2903, 2905, 2906, 2908, 2909, 2911, 2912, 2913, 2914, 2916, 2917, 2918, 2919, 2921, 2922, 2923, 2924, 2925, 2926, 2927, 2928, 2929, 2930, 2933, 2934, 2935, 2936, 2938, 2939, 2940, 2941, 2942, 2943, 2944, 2946, 2947, 2948, 2949, 2950, 2951, 2952, 2953, 2954, 2955, 2957, 2959, 2960, 2961, 2962, 2963, 2964, 2966, 2967, 2968, 2969, 2970, 2971, 2972, 2973, 2974, 2976, 2977, 2978, 2980, 2981, 2982, 2984, 2985, 2987, 2988, 2989, 2990, 2991, 2992, 2994, 2995, 2996, 2997, 2998, 2999, 3000, 3001, 3002, 3003, 3005, 3006, 3008, 3009, 3010, 3011, 3014, 3015, 3016, 3017, 3018, 3019, 3020, 3022, 3023, 3024, 3025, 3026, 3027, 3029, 3030, 3031, 3032, 3033, 3034, 3036, 3039, 3040, 3041, 3042, 3043, 3044, 3045, 3046, 3048, 3049, 3050, 3051, 3052, 3053, 3054, 3055, 3056, 3057, 3058, 3059, 3061, 3062, 3063, 3064, 3065, 3066, 3067, 3068, 3069, 3071, 3072, 3073, 3074, 3076, 3077, 3078, 3079, 3080, 3082, 3083, 3084, 3085, 3086, 3087, 3089, 3090, 3091, 3092, 3093, 3094, 3095, 3097, 3098, 3099, 3104, 3105, 3106, 3107, 3108, 3110, 3111, 3112, 3113, 3114, 3115, 3116, 3117, 3118, 3119, 3120, 3121, 3122, 3123, 3124, 3125, 3127, 3128, 3130, 3131, 3132, 3133, 3134, 3136, 3137, 3138, 3141, 3143, 3144, 3146, 3147, 3149, 3150, 3151, 3152, 3154, 3155, 3156, 3158, 3160, 3161, 3162, 3163, 3164, 3165, 3166, 3167, 3168, 3169, 3170, 3171, 3172, 3173, 3175, 3176, 3178, 3179, 3180, 3181, 3182, 3183, 3184, 3185, 3186, 3187, 3188, 3189, 3190, 3191, 3192, 3194, 3195, 3196, 3197, 3200, 3201, 3202, 3203, 3205, 3207, 3208, 3209, 3210, 3213, 3214, 3215, 3216, 3217, 3218, 3221, 3222, 3223, 3224, 3226, 3227, 3228, 3229, 3230, 3232, 3233, 3234, 3235, 3237, 3238, 3239, 3240, 3241, 3242, 3243, 3244, 3245, 3246, 3247, 3248, 3249, 3250, 3251, 3252, 3255, 3257, 3259, 3261, 3262, 3263, 3264, 3265, 3266, 3268, 3270, 3271, 3272, 3273, 3274, 3276, 3278, 3279, 3280, 3281, 3282, 3284, 3285, 3286, 3287, 3288, 3289, 3290, 3291, 3292, 3294, 3295, 3296, 3297, 3298, 3300, 3301, 3302, 3303, 3305, 3306, 3307, 3308, 3309, 3310, 3311, 3312, 3313, 3314, 3315, 3316, 3317, 3318, 3319, 3320, 3321, 3322, 3323, 3325, 3327, 3328, 3329, 3331, 3332, 3333, 3334, 3335, 3336, 3338, 3340, 3341, 3342, 3344, 3345, 3346, 3348, 3349, 3351, 3352, 3353, 3354, 3355, 3356, 3357, 3358, 3359, 3360, 3361, 3362, 3366, 3367, 3368, 3369, 3370, 3371, 3373, 3374, 3375, 3376, 3377, 3378, 3379, 3380, 3381, 3383, 3384, 3385, 3386, 3387, 3388, 3390, 3392, 3393, 3394, 3397, 3398, 3399, 3400, 3401, 3402, 3403, 3404, 3405, 3406, 3407, 3408, 3409, 3410, 3411, 3412, 3413, 3414, 3416, 3419, 3421, 3422, 3424, 3425, 3426, 3427, 3428, 3429, 3430, 3431, 3433, 3434, 3435, 3437, 3438, 3439, 3443, 3444, 3445, 3446, 3448, 3449, 3450, 3451, 3452, 3453, 3455, 3457, 3458, 3460, 3461, 3462, 3464, 3465, 3466, 3467, 3468, 3469, 3470, 3471, 3473, 3474, 3475, 3476, 3477, 3478, 3479, 3481, 3482, 3483, 3484, 3485, 3486, 3487, 3488, 3489, 3490, 3492, 3493, 3494, 3495, 3496, 3497, 3498, 3500, 3503, 3504, 3506, 3507, 3508, 3509, 3511, 3512, 3513, 3514, 3515, 3516, 3519, 3520, 3521, 3522, 3523, 3524, 3525, 3526, 3527, 3528, 3530, 3531, 3533, 3534, 3535, 3536, 3537, 3539, 3540, 3543, 3544, 3545, 3547, 3548, 3549, 3550, 3551, 3553, 3554, 3556, 3557, 3558, 3560, 3561, 3562, 3563, 3565, 3566, 3567, 3569, 3570, 3571, 3572, 3574, 3575, 3576, 3577, 3578, 3579, 3580, 3581, 3582, 3583, 3584, 3585, 3586, 3588, 3590, 3591, 3593, 3595, 3596, 3598, 3599, 3600, 3601, 3602, 3603, 3604, 3605, 3606, 3607, 3608, 3609, 3611, 3612, 3613, 3614, 3615, 3616, 3617, 3618, 3620, 3621, 3622, 3623, 3624, 3625, 3626, 3628, 3629, 3630, 3631, 3634, 3635, 3636, 3641, 3642, 3643, 3645, 3646, 3647, 3648, 3649, 3651, 3652, 3653, 3655, 3656, 3657, 3658, 3659, 3660, 3661, 3662, 3663, 3665, 3667, 3668, 3669, 3670, 3671, 3672, 3673, 3674, 3675, 3676, 3677, 3678, 3680, 3681, 3684, 3685, 3686, 3687, 3688, 3689, 3690, 3694, 3696, 3697, 3698, 3699, 3700, 3701, 3702, 3703, 3704, 3705, 3706, 3708, 3710, 3711, 3712, 3713, 3714, 3716, 3718, 3719, 3720, 3721, 3722, 3723, 3725, 3726, 3727, 3728, 3729, 3730, 3732, 3734, 3735, 3736, 3737, 3739, 3740, 3742, 3743, 3744, 3745, 3746, 3747, 3748, 3749, 3750, 3751, 3752, 3753, 3754, 3755, 3757, 3758, 3759, 3761, 3764, 3765, 3767, 3768, 3769, 3770, 3771, 3772, 3775, 3776, 3777, 3778, 3779, 3780, 3781, 3782, 3783, 3784, 3785, 3787, 3788, 3790, 3792, 3793, 3794, 3796, 3799, 3800, 3801, 3802, 3803, 3804, 3806, 3807, 3808, 3809, 3811, 3812, 3814, 3815, 3816, 3817, 3818, 3819, 3820, 3821, 3822, 3823, 3824, 3825, 3827, 3828, 3829, 3830, 3831, 3834, 3835, 3837, 3840, 3841, 3842, 3843, 3844, 3845, 3846, 3847, 3848, 3849, 3850, 3851, 3852, 3853, 3854, 3855, 3856, 3857, 3858, 3859, 3861, 3862, 3863, 3864, 3865, 3866, 3867, 3868, 3869, 3870, 3871, 3872, 3873, 3874, 3875, 3877, 3878, 3879, 3880, 3883, 3884, 3885, 3886, 3888, 3889, 3890, 3891, 3892, 3893, 3894, 3895, 3896, 3897, 3898, 3900, 3903, 3904, 3905, 3906, 3907, 3908, 3909, 3911, 3913, 3914, 3915, 3916, 3917, 3918, 3920, 3921, 3922, 3923, 3924, 3925, 3926, 3927, 3928, 3929, 3930, 3931, 3932, 3934, 3935, 3936, 3938, 3939, 3940, 3941, 3942, 3943, 3944, 3945, 3946, 3947, 3948, 3951, 3952, 3953, 3956, 3957, 3958, 3959, 3961, 3962, 3963, 3964, 3965, 3966, 3967, 3968, 3969, 3970, 3971, 3972, 3974, 3975, 3976, 3977, 3978, 3979, 3980, 3981, 3982, 3983, 3984, 3987, 3988, 3990, 3991, 3992, 3994, 3995, 3996, 3997, 3998, 3999, 4000, 4001, 4003, 4004, 4005, 4008, 4009, 4010, 4011, 4012, 4014, 4015, 4016, 4018, 4020, 4021, 4022, 4023, 4025, 4026, 4027, 4028, 4029, 4030, 4031, 4033, 4034, 4035, 4036, 4037, 4038, 4039, 4042, 4043, 4044, 4045, 4046, 4047, 4048, 4049, 4050, 4051, 4052, 4053, 4055, 4056, 4057, 4058, 4059, 4060, 4061, 4062, 4063, 4064, 4065, 4066, 4068, 4069, 4070, 4071, 4072, 4073, 4074, 4076, 4077, 4078, 4079, 4080, 4081, 4082, 4083, 4084, 4089, 4090, 4091, 4092, 4093, 4094, 4095, 4096, 4097, 4100, 4101, 4103, 4104, 4105, 4106, 4107, 4108, 4110, 4111, 4114, 4115, 4116, 4117, 4118, 4119, 4120, 4121, 4122, 4123, 4124, 4125, 4126, 4129, 4130, 4132, 4134, 4137, 4138, 4139, 4140, 4142, 4143, 4145, 4146, 4147, 4149, 4150, 4151, 4152, 4154, 4156, 4157, 4158, 4160, 4161, 4164, 4165, 4166, 4167, 4168, 4169, 4170, 4171, 4172, 4173, 4174, 4175, 4176, 4177, 4179, 4181, 4182, 4183, 4185, 4186, 4187, 4188, 4189, 4190, 4192, 4193, 4194, 4195, 4197, 4198, 4199, 4200, 4201, 4203, 4205, 4206, 4207, 4208, 4209, 4212, 4213, 4214, 4215, 4217, 4219, 4220, 4221, 4222, 4223, 4224, 4225, 4227, 4229, 4230, 4231, 4232, 4233, 4234, 4235, 4238, 4239, 4240, 4241, 4242, 4243, 4244, 4245, 4247, 4248, 4249, 4250, 4251, 4252, 4253, 4254, 4255, 4256, 4257, 4260, 4261, 4262, 4263, 4264, 4267, 4268, 4269, 4270, 4271, 4272, 4273, 4274, 4276, 4277, 4279, 4280, 4281, 4282, 4284, 4287, 4288, 4289, 4290, 4291, 4292, 4293, 4294, 4295, 4296, 4297, 4298, 4299, 4300, 4301, 4302, 4303, 4304, 4305, 4307, 4310, 4311, 4312, 4313, 4314, 4315, 4317, 4318, 4320, 4321, 4322, 4323, 4324, 4326, 4328, 4329, 4330, 4331, 4333, 4334, 4335, 4336, 4337, 4338, 4339, 4340, 4341, 4342, 4344, 4345, 4346, 4347, 4348, 4349, 4350, 4352, 4354, 4355, 4356, 4358, 4359, 4360, 4361, 4363, 4364, 4366, 4367, 4368, 4369, 4371, 4373, 4374, 4376, 4377, 4378, 4379, 4380, 4381, 4382, 4383, 4384, 4385, 4386, 4387, 4388, 4389, 4390, 4391, 4395, 4396, 4397, 4398, 4399, 4400, 4401, 4404, 4405, 4407, 4408, 4409, 4410, 4411, 4412, 4413, 4414, 4415, 4417, 4418, 4419, 4420, 4421, 4422, 4424, 4425, 4428, 4429, 4430, 4431, 4432, 4433, 4434, 4435, 4436, 4437, 4438, 4439, 4442, 4443, 4444, 4445, 4446, 4447, 4448, 4449, 4450, 4451, 4453, 4454, 4455, 4456, 4457, 4458, 4460, 4461, 4464, 4466, 4467, 4468, 4469, 4471, 4472, 4473, 4475, 4476, 4477, 4479, 4480, 4482, 4483, 4484, 4486, 4487, 4488, 4489, 4491, 4492, 4493, 4494, 4495, 4496, 4498, 4500, 4501, 4502, 4503, 4505, 4507, 4508, 4509, 4512, 4513, 4514, 4515, 4516, 4517, 4518, 4520, 4521, 4522, 4523, 4524, 4525, 4527, 4528, 4530, 4531, 4532, 4533, 4534, 4535, 4537, 4538, 4539, 4541, 4542, 4544, 4545, 4546, 4548, 4549, 4550, 4551, 4552, 4553, 4554, 4555, 4556, 4557, 4558, 4559, 4562, 4563, 4564, 4565, 4566, 4567, 4568, 4569, 4570, 4571, 4572, 4573, 4574, 4575, 4576, 4578, 4581, 4582, 4584, 4585, 4586, 4587, 4588, 4590, 4591, 4592, 4593, 4595, 4596, 4597, 4598, 4599, 4600, 4601, 4602, 4603, 4604, 4605, 4606, 4607, 4608, 4609, 4611, 4612, 4613, 4614, 4615, 4617, 4618, 4619, 4620, 4621, 4622, 4624, 4626, 4627, 4629, 4630, 4631, 4634, 4635, 4636, 4637, 4638, 4639, 4640, 4642, 4643, 4644, 4646, 4647, 4648, 4649, 4650, 4651, 4652, 4654, 4655, 4656, 4657, 4658, 4660, 4661, 4663, 4664, 4665, 4666, 4667, 4668, 4669, 4670, 4673, 4674, 4675, 4676, 4678, 4679, 4680, 4681, 4683, 4684, 4685, 4686, 4687, 4688, 4689, 4691, 4692, 4695, 4696, 4697, 4698, 4699, 4700, 4701, 4702, 4703, 4704, 4705, 4706, 4708, 4709, 4711, 4712, 4713, 4714, 4715, 4716, 4718, 4719, 4720, 4721, 4722, 4725, 4726, 4727, 4728, 4729, 4730, 4731, 4732, 4733, 4735, 4736, 4737, 4738, 4739, 4740, 4741, 4742, 4743, 4744, 4745, 4746, 4748, 4749, 4750, 4752, 4753, 4754, 4755, 4756, 4757, 4759, 4761, 4762, 4763, 4765, 4767, 4768, 4769, 4770, 4771, 4772, 4776, 4777, 4778, 4779, 4780, 4782, 4783, 4784, 4787, 4788, 4789, 4790, 4793, 4794, 4795, 4796, 4797, 4799, 4801, 4804, 4805, 4806, 4807, 4808, 4809, 4810, 4811, 4812, 4813, 4814, 4815, 4817, 4818, 4819, 4820, 4821, 4823, 4824, 4825, 4826, 4827, 4830, 4831, 4832, 4833, 4834, 4835, 4837, 4838, 4839, 4840, 4841, 4842, 4843, 4844, 4845, 4847, 4849, 4850, 4851, 4852, 4853, 4854, 4855, 4857, 4858, 4859, 4861, 4862, 4863, 4864, 4865, 4866, 4867, 4869, 4870, 4871, 4873, 4874, 4875, 4876, 4877, 4878, 4879, 4880, 4881, 4882}\n"
     ]
    }
   ],
   "source": [
    "print(train_idx)\n",
    "print(groups[train_idx])\n",
    "\n",
    "train_img_ids = set(groups[train_idx])\n",
    "print(train_img_ids)"
   ]
  },
  {
   "cell_type": "code",
   "execution_count": 8,
   "metadata": {},
   "outputs": [],
   "source": [
    "def save_coco(file, info, licenses, images, annotations, categories):\n",
    "    with open(file, 'wt', encoding='UTF-8') as coco:\n",
    "        json.dump({ 'info': info, 'licenses': licenses, 'images': images, \n",
    "            'annotations': annotations, 'categories': categories}, coco, indent=2, sort_keys=True)\n",
    "        \n",
    "coco = data\n",
    "info = coco['info']\n",
    "licenses = coco['licenses']\n",
    "images = coco['images']\n",
    "annotations = coco['annotations']\n",
    "categories = coco['categories']\n",
    "\n",
    "train_file_name = NEW_TRAIN_JSON_NAME\n",
    "val_file_name = NEW_VAL_JSON_NAME\n",
    "\n",
    "train_annotations = []\n",
    "val_annotations = []\n",
    "train_images = []\n",
    "val_images = []"
   ]
  },
  {
   "cell_type": "code",
   "execution_count": 40,
   "metadata": {},
   "outputs": [
    {
     "name": "stdout",
     "output_type": "stream",
     "text": [
      "23144\n"
     ]
    }
   ],
   "source": [
    "print(len(data['annotations']))\n",
    "\n",
    "for ann in data['annotations'] :\n",
    "    if ann['id'] in train_idx :\n",
    "        train_annotations.append(ann)\n",
    "    else :\n",
    "        val_annotations.append(ann)"
   ]
  },
  {
   "cell_type": "code",
   "execution_count": 41,
   "metadata": {},
   "outputs": [
    {
     "name": "stdout",
     "output_type": "stream",
     "text": [
      "4883\n"
     ]
    }
   ],
   "source": [
    "print(len(data['images']))\n",
    "\n",
    "for img in data['images'] :\n",
    "    if img['id'] in train_img_ids :\n",
    "        train_images.append(img)\n",
    "    else :\n",
    "        val_images.append(img)"
   ]
  },
  {
   "cell_type": "code",
   "execution_count": 44,
   "metadata": {},
   "outputs": [
    {
     "name": "stdout",
     "output_type": "stream",
     "text": [
      "18783\n",
      "4361\n",
      "23144\n",
      "3909\n",
      "974\n",
      "4883\n"
     ]
    }
   ],
   "source": [
    "# 문제 없는지 한 번 더 체크\n",
    "print(len(train_annotations))\n",
    "print(len(val_annotations))\n",
    "print(len(train_annotations) + len(val_annotations))\n",
    "\n",
    "print(len(train_images))\n",
    "print(len(val_images))\n",
    "print(len(train_images) + len(val_images))\n"
   ]
  },
  {
   "cell_type": "code",
   "execution_count": 42,
   "metadata": {},
   "outputs": [],
   "source": [
    "save_coco(train_file_name, info, licenses, train_images, train_annotations, categories)\n",
    "save_coco(val_file_name, info, licenses, val_images, val_annotations, categories)"
   ]
  }
 ],
 "metadata": {
  "kernelspec": {
   "display_name": "detection",
   "language": "python",
   "name": "detection"
  },
  "language_info": {
   "codemirror_mode": {
    "name": "ipython",
    "version": 3
   },
   "file_extension": ".py",
   "mimetype": "text/x-python",
   "name": "python",
   "nbconvert_exporter": "python",
   "pygments_lexer": "ipython3",
   "version": "3.7.16"
  },
  "orig_nbformat": 4
 },
 "nbformat": 4,
 "nbformat_minor": 2
}
