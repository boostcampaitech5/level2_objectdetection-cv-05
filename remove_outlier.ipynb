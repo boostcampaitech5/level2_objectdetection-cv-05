{
 "cells": [
  {
   "cell_type": "code",
   "execution_count": 1,
   "metadata": {},
   "outputs": [
    {
     "name": "stdout",
     "output_type": "stream",
     "text": [
      "Couldn't import fast version of function compute_overlap, will use slow one. Check cython intallation\n"
     ]
    }
   ],
   "source": [
    "from PIL import Image\n",
    "import requests\n",
    "from io import BytesIO\n",
    "from map_boxes import mean_average_precision_for_boxes\n",
    "import pandas as pd\n",
    "import numpy as np\n",
    "import json\n",
    "from tqdm import tqdm\n",
    "from pycocotools.coco import COCO\n",
    "from matplotlib.colors import ListedColormap\n",
    "import matplotlib\n",
    "import tqdm\n",
    "import os\n",
    "from PIL import Image, ImageEnhance, ImageFilter"
   ]
  },
  {
   "cell_type": "code",
   "execution_count": 2,
   "metadata": {},
   "outputs": [],
   "source": [
    "GT_JSON = '../dataset/train.json' # 기본 json\n",
    "LABEL_NAME = [\"General trash\", \"Paper\", \"Paper pack\", \"Metal\", \n",
    "              \"Glass\", \"Plastic\", \"Styrofoam\", \"Plastic bag\", \"Battery\", \"Clothing\"]\n",
    "image_dir = '../dataset/'"
   ]
  },
  {
   "cell_type": "code",
   "execution_count": 3,
   "metadata": {},
   "outputs": [
    {
     "name": "stdout",
     "output_type": "stream",
     "text": [
      "loading annotations into memory...\n",
      "Done (t=0.08s)\n",
      "creating index...\n",
      "index created!\n"
     ]
    }
   ],
   "source": [
    "coco = COCO(GT_JSON) \n",
    "\n",
    "with open(GT_JSON, 'r') as outfile:\n",
    "    gt_json = (json.load(outfile))\n",
    "\n",
    "# 이상치 제거\n",
    "id_list=[]\n",
    "for image_id in coco.getImgIds():\n",
    "        image_info = coco.loadImgs(image_id)[0]\n",
    "        annotation_id = coco.getAnnIds(imgIds=image_info['id'])\n",
    "        annotation_info_list = coco.loadAnns(annotation_id)  \n",
    "        if len(annotation_info_list)>20:\n",
    "                id_list.append(image_id)      \n",
    "\n",
    "id_list.sort(reverse=True)\n",
    "for idx in id_list:\n",
    "    del gt_json['images'][idx]\n",
    "              \n",
    "# 수정된 gt_json 파일 저장\n",
    "file_path = '/opt/ml/dataset/train_outlier.json'\n",
    "with open(file_path, 'w') as outfile:\n",
    "    json.dump(gt_json, outfile)"
   ]
  }
 ],
 "metadata": {
  "kernelspec": {
   "display_name": "detection",
   "language": "python",
   "name": "python3"
  },
  "language_info": {
   "codemirror_mode": {
    "name": "ipython",
    "version": 3
   },
   "file_extension": ".py",
   "mimetype": "text/x-python",
   "name": "python",
   "nbconvert_exporter": "python",
   "pygments_lexer": "ipython3",
   "version": "3.7.16"
  },
  "orig_nbformat": 4
 },
 "nbformat": 4,
 "nbformat_minor": 2
}
