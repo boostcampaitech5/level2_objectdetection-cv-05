{
 "cells": [
  {
   "cell_type": "code",
   "execution_count": 1,
   "metadata": {},
   "outputs": [],
   "source": [
    "import os\n",
    "import numpy as np\n",
    "import cv2\n",
    "\n",
    "input_dir = '/opt/ml/Paper_1/'\n",
    "output_dir ='/opt/ml/Paper_sharp'\n",
    "if not os.path.exists(output_dir):\n",
    "    os.makedirs(output_dir)\n",
    "\n",
    "# 커널 생성(대상이 있는 픽셀을 강조)\n",
    "kernel = np.array([[0, -1, 0],\n",
    "                   [-1, 5, -1],\n",
    "                   [0, -1, 0]])\n",
    "\n",
    "for filename in os.listdir(input_dir):\n",
    "    if filename.endswith('.jpg'):\n",
    "        # 이미지 읽기\n",
    "        filepath = os.path.join(input_dir, filename)\n",
    "        image = cv2.imread(filepath)\n",
    "\n",
    "        # 커널 적용 \n",
    "        image_sharp = cv2.filter2D(image, -1, kernel)\n",
    "\n",
    "        # 결과 이미지 저장\n",
    "        output_filename = os.path.splitext(filename)[0] + '_sharp.jpg'\n",
    "        output_filepath = os.path.join(output_dir, output_filename)\n",
    "        cv2.imwrite(output_filepath, image_sharp)"
   ]
  }
 ],
 "metadata": {
  "kernelspec": {
   "display_name": "detection",
   "language": "python",
   "name": "python3"
  },
  "language_info": {
   "codemirror_mode": {
    "name": "ipython",
    "version": 3
   },
   "file_extension": ".py",
   "mimetype": "text/x-python",
   "name": "python",
   "nbconvert_exporter": "python",
   "pygments_lexer": "ipython3",
   "version": "3.7.16"
  },
  "orig_nbformat": 4
 },
 "nbformat": 4,
 "nbformat_minor": 2
}
